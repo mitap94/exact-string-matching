{
 "cells": [
  {
   "cell_type": "code",
   "execution_count": 4,
   "metadata": {},
   "outputs": [],
   "source": [
    "import sys\n",
    "import bisect\n",
    "from collections import defaultdict\n",
    "\n",
    "from io import StringIO\n",
    "from math import ceil, log2\n",
    "\n",
    "import exact_string_matching_algorithms as alg"
   ]
  },
  {
   "cell_type": "code",
   "execution_count": 5,
   "metadata": {},
   "outputs": [],
   "source": [
    "# filter_real_alignments\n",
    "pattern = \"ATC\"\n",
    "possible_alignments = [0, 8, 9, 10]\n",
    "text = \"ACGTGCTGAAAT\"\n",
    "real_alignments = alg.filter_real_alignments(pattern, possible_alignments, text)\n",
    "assert real_alignments == []\n",
    "\n",
    "text = \"ATCTGCTGAAAT\"\n",
    "real_alignments = alg.filter_real_alignments(pattern, possible_alignments, text)\n",
    "assert real_alignments == [0]\n",
    "\n",
    "pattern = \"ATC\"\n",
    "possible_alignments = [0, 3, 6, 9]\n",
    "text = \"ATCATCACTATC\"\n",
    "real_alignments = alg.filter_real_alignments(pattern, possible_alignments, text)\n",
    "\n",
    "assert real_alignments == [0, 3, 9]"
   ]
  },
  {
   "cell_type": "code",
   "execution_count": 6,
   "metadata": {},
   "outputs": [],
   "source": [
    "# parse_fasta\n",
    "string_io = StringIO(\"\")\n",
    "parsed_fasta = alg.parse_fasta(string_io)\n",
    "assert parsed_fasta == {}\n",
    "\n",
    "string_io = StringIO(\"test_sequence\")\n",
    "parsed_fasta = alg.parse_fasta(string_io)\n",
    "assert parsed_fasta == {}\n",
    "\n",
    "string_io = StringIO(\">test_sequence\")\n",
    "parsed_fasta = alg.parse_fasta(string_io)\n",
    "assert parsed_fasta[\"test_sequence\"] == \"\"\n",
    "\n",
    "string_io = StringIO(\">test_sequence\\nACTG\")\n",
    "parsed_fasta = alg.parse_fasta(string_io)\n",
    "assert parsed_fasta[\"test_sequence\"] == \"ACTG\"\n",
    "\n",
    "string_io = StringIO(\">test_sequence\\nACTG\")\n",
    "parsed_fasta = alg.parse_fasta(string_io)\n",
    "assert parsed_fasta[\"test_sequence\"] == \"ACTG\"\n",
    "\n",
    "string_io = StringIO(\">test_sequence1\\nACTG\\n>test_sequence2\\nCTGA\")\n",
    "parsed_fasta = alg.parse_fasta(string_io)\n",
    "assert parsed_fasta[\"test_sequence1\"] == \"ACTG\"\n",
    "assert parsed_fasta[\"test_sequence2\"] == \"CTGA\""
   ]
  },
  {
   "cell_type": "code",
   "execution_count": 7,
   "metadata": {},
   "outputs": [
    {
     "name": "stdout",
     "output_type": "stream",
     "text": [
      "Exact String Matching Algorithms\n",
      "\n",
      "Choose algorithm:\n",
      "1. Sorted Index\n",
      "2. Hash Table\n",
      "3. Suffix Array\n",
      "4. Suffix Tree\n",
      "4\n",
      "\n",
      "You chose the Suffix Tree algorithm.\n"
     ]
    }
   ],
   "source": [
    "# choose_algorithm\n",
    "# redundant, already tested in function\n",
    "choice = alg.choose_algorithm()\n",
    "assert (choice >= 1 and choice <= 4)"
   ]
  },
  {
   "cell_type": "code",
   "execution_count": 8,
   "metadata": {},
   "outputs": [],
   "source": [
    "# init_structure\n",
    "# check created structure type\n",
    "alg.choice = 1\n",
    "struct = alg.init_structure('...', 'SOME TEXT', 5)\n",
    "assert type(struct) is alg.IndexSorted\n",
    "\n",
    "alg.choice = 2\n",
    "struct = alg.init_structure('...', 'SOME TEXT', 5)\n",
    "assert type(struct) is alg.IndexHash\n",
    "\n",
    "alg.choice = 3\n",
    "struct = alg.init_structure('...', 'SOME TEXT', 5)\n",
    "assert type(struct) is alg.SuffixArray\n",
    "\n",
    "alg.choice = 4\n",
    "struct = alg.init_structure('...', 'SOME TEXT', 5)\n",
    "assert type(struct) is alg.SuffixTree\n",
    "\n",
    "alg.choice = 5\n",
    "struct = alg.init_structure('...', 'SOME TEXT', 5)\n",
    "assert type(struct) is type(None)"
   ]
  },
  {
   "cell_type": "code",
   "execution_count": 9,
   "metadata": {},
   "outputs": [
    {
     "name": "stdout",
     "output_type": "stream",
     "text": [
      "Creating index for sequence test_sequence\n",
      "Creating index for sequence test_sequence2\n",
      "Creating index for sequence test_sequence1\n",
      "Creating index for sequence test_sequence\n",
      "Creating index for sequence test_sequence2\n",
      "Creating index for sequence test_sequence1\n",
      "Creating index for sequence test_sequence\n",
      "Creating index for sequence test_sequence2\n",
      "Creating index for sequence test_sequence1\n",
      "Creating index for sequence test_sequence\n",
      "Creating index for sequence test_sequence2\n",
      "Creating index for sequence test_sequence1\n"
     ]
    }
   ],
   "source": [
    "# create_indexes\n",
    "# all algorithms\n",
    "\n",
    "for alg.choice in range(1, 5):\n",
    "    string_io = StringIO(\"\")\n",
    "    alg.parsed_fasta = alg.parse_fasta(string_io)\n",
    "    alg.create_indexes()\n",
    "    assert len(alg.indexes) == 0\n",
    "\n",
    "    string_io = StringIO(\">test_sequence\")\n",
    "    alg.parsed_fasta = alg.parse_fasta(string_io)\n",
    "    alg.create_indexes()\n",
    "    assert len(alg.indexes) == 1\n",
    "\n",
    "    string_io = StringIO(\">test_sequence1\\nACTG\\n>test_sequence2\\nCTGA\")\n",
    "    alg.parsed_fasta = alg.parse_fasta(string_io)\n",
    "    alg.create_indexes()\n",
    "    assert len(alg.indexes) == 2"
   ]
  },
  {
   "cell_type": "code",
   "execution_count": 11,
   "metadata": {},
   "outputs": [
    {
     "name": "stdout",
     "output_type": "stream",
     "text": [
      "Creating index for sequence test_sequence\n",
      "Creating index for sequence test_sequence\n",
      "Creating index for sequence test_sequence\n",
      "Creating index for sequence test_sequence\n"
     ]
    }
   ],
   "source": [
    "# query\n",
    "# all algorithms\n",
    "for alg.choice in range(1, 5):\n",
    "    string_io = StringIO(\">test_sequence\\nACGTAACTGTAACGGTAC\")\n",
    "    alg.parsed_fasta = alg.parse_fasta(string_io)\n",
    "    alg.create_indexes()\n",
    "    if alg.choice in [1, 2]: # SortedIndex and HashTable\n",
    "        assert len(alg.indexes[0].query(\"A\")) == 0 # query doesn't work for strings smaller than five characters\n",
    "        assert len(alg.indexes[0].query(\"GTAACTG\")) == 2 # potentially two times, but really only once\n",
    "    elif alg.choice in [3, 4]: # SuffixArray and SuffixTree\n",
    "        assert len(alg.indexes[0].query(\"A\")) == 6\n",
    "        assert len(alg.indexes[0].query(\"GTAACTG\")) == 1\n",
    "    assert len(alg.indexes[0].query(\"ACGTA\")) == 1\n",
    "    assert len(alg.indexes[0].query(\"ACGTAACTGTAACGGTAC\")) == 1"
   ]
  },
  {
   "cell_type": "code",
   "execution_count": null,
   "metadata": {},
   "outputs": [],
   "source": [
    "# Some functions just encapsulate other function calls\n",
    "# main\n",
    "# file_processing\n",
    "# per_pattern_processing"
   ]
  }
 ],
 "metadata": {
  "kernelspec": {
   "display_name": "Python 3",
   "language": "python",
   "name": "python3"
  },
  "language_info": {
   "codemirror_mode": {
    "name": "ipython",
    "version": 3
   },
   "file_extension": ".py",
   "mimetype": "text/x-python",
   "name": "python",
   "nbconvert_exporter": "python",
   "pygments_lexer": "ipython3",
   "version": "3.5.2"
  }
 },
 "nbformat": 4,
 "nbformat_minor": 2
}
